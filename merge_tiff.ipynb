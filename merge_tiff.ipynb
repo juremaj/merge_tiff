{
 "cells": [
  {
   "cell_type": "code",
   "execution_count": 1,
   "id": "6fe99992",
   "metadata": {},
   "outputs": [],
   "source": [
    "import os\n",
    "import tifftools"
   ]
  },
  {
   "cell_type": "markdown",
   "id": "797cdf0d",
   "metadata": {},
   "source": [
    "### Configurations\n",
    "Here you need to specify the path to your root data folder and write down a list of datasets (subfolders) for which you want to run the script\n",
    "\n",
    "The script assumes some things, so if there are changes to this it might get stuck:\n",
    "1) Assumes each experiment is in a separate folder within the data_path folder\n",
    "2) Assumes that within each experiment's folder there is only a single time series subfolder (named TSeries...)\n",
    "3) That within that subfolder is a `suite2p` folder in the same format as is output by suite2p"
   ]
  },
  {
   "cell_type": "code",
   "execution_count": 2,
   "id": "43884971",
   "metadata": {},
   "outputs": [
    {
     "name": "stdout",
     "output_type": "stream",
     "text": [
      "Available dataset names:['444112-092822 (copy)', '444112-092822', '444112-092822 (another copy)']\n"
     ]
    }
   ],
   "source": [
    "data_path = '/home/jure/Documents/CossartLab/data_merge_tiff'\n",
    "print('Available dataset names:' + str(os.listdir(data_path)))"
   ]
  },
  {
   "cell_type": "code",
   "execution_count": 3,
   "id": "5c6d104b",
   "metadata": {},
   "outputs": [],
   "source": [
    "## here just manually choose a (subset) of the available datasets for which you want to get merged tiffs\n",
    "ds_list = ['444112-092822']"
   ]
  },
  {
   "cell_type": "markdown",
   "id": "c8463279",
   "metadata": {},
   "source": [
    "### Script\n",
    "(here you dont have to change anything, it should automatically run for all datasets that you specified above)"
   ]
  },
  {
   "cell_type": "code",
   "execution_count": 4,
   "id": "26f60fb0",
   "metadata": {},
   "outputs": [],
   "source": [
    "# defining functions\n",
    "\n",
    "def merge_tiff_ch_pl(ds, plane):\n",
    "    # to merge tiff of single channel (TODO) of single plane (needs to be called recursivelly if there are multiple planes/channels in recording)\n",
    "    os.chdir(f'{os.getcwd()}/{plane}/reg_tif')\n",
    "\n",
    "    # get list of tiffs\n",
    "    tiff_files_li=[]\n",
    "    for ti in os.listdir():\n",
    "        if '.tif' in ti:\n",
    "            tiff_files_li.append(ti)\n",
    "\n",
    "    # concatenate\n",
    "    tifftools.tiff_concat(tiff_files_li, 'mot_corr_concat.tiff', overwrite=True)\n",
    "\n",
    "    # delete unconcatenated\n",
    "    for ti in os.listdir():\n",
    "        if ('.tif' in ti) and (ti != 'mot_corr_concat.tiff'):\n",
    "            os.remove(ti)\n",
    "    os.chdir('../../')\n",
    "\n",
    "    print(os.getcwd())\n",
    "\n",
    "def merge_motcorr_tiff(data_path, ds):\n",
    "    os.chdir(f'{data_path}/{ds}/')\n",
    "    os.chdir(f'{os.listdir()[0]}/suite2p/')\n",
    "    # get list of directories of plane\n",
    "    for dir_name in os.listdir():\n",
    "        print(dir_name[:5])\n",
    "        if dir_name[:5]=='plane': # if it is a 'plane' directory (not 'combined' or anything else)\n",
    "            merge_tiff_ch_pl(ds, dir_name)\n",
    "        "
   ]
  },
  {
   "cell_type": "code",
   "execution_count": 5,
   "id": "0e34d040",
   "metadata": {},
   "outputs": [
    {
     "data": {
      "text/plain": [
       "['merge_tiff.ipynb',\n",
       " 'README.md',\n",
       " '.git',\n",
       " '.README.md.swp',\n",
       " '.ipynb_checkpoints']"
      ]
     },
     "execution_count": 5,
     "metadata": {},
     "output_type": "execute_result"
    }
   ],
   "source": [
    "os.listdir()"
   ]
  },
  {
   "cell_type": "code",
   "execution_count": 6,
   "id": "b0fc2f4a",
   "metadata": {},
   "outputs": [
    {
     "name": "stdout",
     "output_type": "stream",
     "text": [
      "run.l\n",
      "plane\n",
      "/home/jure/Documents/CossartLab/data_merge_tiff/444112-092822/TSeries-09282022-imagerie-000/suite2p\n",
      "plane\n",
      "/home/jure/Documents/CossartLab/data_merge_tiff/444112-092822/TSeries-09282022-imagerie-000/suite2p\n",
      "combi\n"
     ]
    }
   ],
   "source": [
    "# iterating through datasets\n",
    "for ds in ds_list:\n",
    "    merge_motcorr_tiff(data_path, ds)"
   ]
  },
  {
   "cell_type": "code",
   "execution_count": null,
   "id": "274140d7",
   "metadata": {},
   "outputs": [],
   "source": []
  }
 ],
 "metadata": {
  "kernelspec": {
   "display_name": "Python 3 (ipykernel)",
   "language": "python",
   "name": "python3"
  },
  "language_info": {
   "codemirror_mode": {
    "name": "ipython",
    "version": 3
   },
   "file_extension": ".py",
   "mimetype": "text/x-python",
   "name": "python",
   "nbconvert_exporter": "python",
   "pygments_lexer": "ipython3",
   "version": "3.10.6"
  }
 },
 "nbformat": 4,
 "nbformat_minor": 5
}
